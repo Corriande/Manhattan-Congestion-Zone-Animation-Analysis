{
 "cells": [
  {
   "cell_type": "markdown",
   "metadata": {
    "nteract": {
     "transient": {
      "deleting": false
     }
    }
   },
   "source": [
    "## Congestion Zone Latent Dates\n",
    "\n",
    "### Notebook 2/7\n",
    "\n",
    "### By Gabriel del Valle \n",
    "### NYC DATA SCIENCE ACADEMY\n",
    "### 07/21/24\n",
    "\n",
    "#### Fill missing rows for each unique combination of street per datetime, 2016 - 2019, OpenNYC Automated Traffic Counts dataset, Manhattan below 60th street.\n",
    "\n",
    "\n",
    "This notebook was made on the platform Microsoft Azure -- Synapse Analytics.\n",
    "\n",
    "It utilizes the distributed computing language Apache pySpark, as well as an Apache spark\n",
    "pool which powers the distributed computing.\n",
    "\n",
    "\n",
    "### Do you need to run this notebook? \n",
    "\n",
    "While this process was useful in my investigation for data density to make the public code more integral, this information is only strictly necessary for imputing missing data, which forms the basis for only one of the three animated maps. If you would like access to the imputed data, feel free to reach out on Linkedin:\n",
    "\n",
    "\n",
    "\n",
    "\n",
    "## Configuration\n",
    "\n",
    "I used the default recommended configurations for the spark pool: \n",
    "- 12 vCores\n",
    "- 2 executors\n",
    "- 3 to 10 nodes\n",
    "\n",
    "For the notebook, also default configurations:\n",
    "- Executor size: Small (4 vCores, 28GB memory)\n",
    "\n",
    "\n",
    "## The primary approach to computing new rows for each unique combination of street and datetime interval down to 15 minutes, between 2016 and 2019:\n",
    "\n",
    "#### 1. Create a dataset of total time intervals to 15 minute precision from 2016 - 2019\n",
    "\n",
    "#### 2. Compare if each street is already represented with this time interval in intial_data, if not, merge with street data and add to a new dataset: missing_rows\n",
    "\n",
    "#### 3. Anticipate the October Pattern. Though it was not described in any supplementary info on the OpenNYC Automated Traffic Counts dataset, there is a much higher density of rows per datetime of valid data during October, as this is apparently when data collection was most focused by New York City. The large ratio of missing data after computing the missing dates \n"
   ]
  },
  {
   "cell_type": "code",
   "execution_count": 1,
   "metadata": {
    "jupyter": {
     "outputs_hidden": false,
     "source_hidden": false
    },
    "microsoft": {
     "language": "python"
    },
    "nteract": {
     "transient": {
      "deleting": false
     }
    }
   },
   "outputs": [
    {
     "data": {
      "application/vnd.livy.statement-meta+json": {
       "execution_finish_time": "2024-06-19T17:01:45.0917698Z",
       "execution_start_time": "2024-06-19T17:01:27.9102802Z",
       "livy_statement_state": "available",
       "parent_msg_id": "7f2c39ab-936d-4161-8400-1bdd238d0b56",
       "queued_time": "2024-06-19T16:57:55.1243714Z",
       "session_id": "10",
       "session_start_time": "2024-06-19T16:57:55.1707424Z",
       "spark_jobs": null,
       "spark_pool": "computeSmall",
       "state": "finished",
       "statement_id": 2,
       "statement_ids": [
        2
       ]
      },
      "text/plain": [
       "StatementMeta(computeSmall, 10, 2, Finished, Available)"
      ]
     },
     "metadata": {},
     "output_type": "display_data"
    }
   ],
   "source": [
    "%%pyspark\n",
    "\n",
    "#file_path = \"abfss://<container-name>@<storage-account-name>.dfs.core.windows.net/czone_traffic.csv\"\n",
    "\n",
    "initial_data = spark.read.load('abfss://sparkczone@sparkczone.dfs.core.windows.net/czone_traffic.csv', format='csv', header=True)"
   ]
  },
  {
   "cell_type": "code",
   "execution_count": 2,
   "metadata": {
    "jupyter": {
     "outputs_hidden": false,
     "source_hidden": false
    },
    "nteract": {
     "transient": {
      "deleting": false
     }
    }
   },
   "outputs": [
    {
     "data": {
      "application/vnd.livy.statement-meta+json": {
       "execution_finish_time": "2024-06-19T17:03:49.7260435Z",
       "execution_start_time": "2024-06-19T17:03:24.7186236Z",
       "livy_statement_state": "available",
       "parent_msg_id": "eff4f3f0-3488-40c1-b982-4125e50b92f5",
       "queued_time": "2024-06-19T17:03:24.5885197Z",
       "session_id": "10",
       "session_start_time": null,
       "spark_jobs": null,
       "spark_pool": "computeSmall",
       "state": "finished",
       "statement_id": 3,
       "statement_ids": [
        3
       ]
      },
      "text/plain": [
       "StatementMeta(computeSmall, 10, 3, Finished, Available)"
      ]
     },
     "metadata": {},
     "output_type": "display_data"
    },
    {
     "data": {
      "application/vnd.synapse.widget-view+json": {
       "widget_id": "e4dfe2fd-ce70-4148-ac00-823a2d3e0f45",
       "widget_type": "Synapse.DataFrame"
      },
      "text/plain": [
       "SynapseWidget(Synapse.DataFrame, e4dfe2fd-ce70-4148-ac00-823a2d3e0f45)"
      ]
     },
     "metadata": {},
     "output_type": "display_data"
    }
   ],
   "source": [
    "initial_data = initial_data.drop('NumericValue')\n",
    "initial_data = initial_data[initial_data['Yr'] <= 2019]\n",
    "\n",
    "initial_data = initial_data.withColumnRenamed(\"Yr\", \"year\") \\\n",
    "                           .withColumnRenamed(\"M\", \"month\") \\\n",
    "                           .withColumnRenamed(\"D\", \"day\") \\\n",
    "                           .withColumnRenamed(\"HH\", \"hour\") \\\n",
    "                           .withColumnRenamed(\"MM\", \"minute\")\n",
    "\n",
    "display(initial_data.limit(10))"
   ]
  },
  {
   "cell_type": "code",
   "execution_count": 3,
   "metadata": {
    "jupyter": {
     "outputs_hidden": false,
     "source_hidden": false
    },
    "nteract": {
     "transient": {
      "deleting": false
     }
    }
   },
   "outputs": [
    {
     "data": {
      "application/vnd.livy.statement-meta+json": {
       "execution_finish_time": "2024-06-19T17:03:50.018902Z",
       "execution_start_time": "2024-06-19T17:03:49.8576827Z",
       "livy_statement_state": "available",
       "parent_msg_id": "ea76ee92-a831-4fe4-969b-fff14f2ab62a",
       "queued_time": "2024-06-19T17:03:31.708081Z",
       "session_id": "10",
       "session_start_time": null,
       "spark_jobs": null,
       "spark_pool": "computeSmall",
       "state": "finished",
       "statement_id": 4,
       "statement_ids": [
        4
       ]
      },
      "text/plain": [
       "StatementMeta(computeSmall, 10, 4, Finished, Available)"
      ]
     },
     "metadata": {},
     "output_type": "display_data"
    }
   ],
   "source": [
    "import calendar"
   ]
  },
  {
   "cell_type": "code",
   "execution_count": 22,
   "metadata": {
    "jupyter": {
     "outputs_hidden": false,
     "source_hidden": false
    },
    "nteract": {
     "transient": {
      "deleting": false
     }
    }
   },
   "outputs": [
    {
     "data": {
      "application/vnd.livy.statement-meta+json": {
       "execution_finish_time": "2024-06-19T17:39:09.4128125Z",
       "execution_start_time": "2024-06-19T17:39:09.2564637Z",
       "livy_statement_state": "available",
       "parent_msg_id": "f744efb1-c565-4ed0-9482-eb8e92a7441d",
       "queued_time": "2024-06-19T17:39:09.131841Z",
       "session_id": "10",
       "session_start_time": null,
       "spark_jobs": null,
       "spark_pool": "computeSmall",
       "state": "finished",
       "statement_id": 23,
       "statement_ids": [
        23
       ]
      },
      "text/plain": [
       "StatementMeta(computeSmall, 10, 23, Finished, Available)"
      ]
     },
     "metadata": {},
     "output_type": "display_data"
    }
   ],
   "source": [
    "from pyspark.sql import SparkSession, Row\n",
    "from pyspark.sql.functions import udf, explode, lit\n",
    "from pyspark.sql import functions as F\n",
    "from pyspark.sql.types import IntegerType, ArrayType"
   ]
  },
  {
   "cell_type": "code",
   "execution_count": 5,
   "metadata": {
    "jupyter": {
     "outputs_hidden": false,
     "source_hidden": false
    },
    "nteract": {
     "transient": {
      "deleting": false
     }
    }
   },
   "outputs": [
    {
     "data": {
      "application/vnd.livy.statement-meta+json": {
       "execution_finish_time": "2024-06-19T17:03:50.5968181Z",
       "execution_start_time": "2024-06-19T17:03:50.4474027Z",
       "livy_statement_state": "available",
       "parent_msg_id": "5275d2b6-d820-46cd-8b51-9486fd69be86",
       "queued_time": "2024-06-19T17:03:37.2061724Z",
       "session_id": "10",
       "session_start_time": null,
       "spark_jobs": null,
       "spark_pool": "computeSmall",
       "state": "finished",
       "statement_id": 6,
       "statement_ids": [
        6
       ]
      },
      "text/plain": [
       "StatementMeta(computeSmall, 10, 6, Finished, Available)"
      ]
     },
     "metadata": {},
     "output_type": "display_data"
    }
   ],
   "source": [
    "years = [2016, 2017, 2018, 2019]\n",
    "months = [i for i in range(1, 13)]\n",
    "hours = [i for i in range(1, 24)]\n",
    "minutes = [0, 15, 30, 45]\n",
    "\n",
    "years_df = spark.createDataFrame([(year,) for year in years], [\"year\"])\n",
    "months_df = spark.createDataFrame([(month,) for month in months], [\"month\"])\n",
    "\n",
    "year_month_df = years_df.crossJoin(months_df)"
   ]
  },
  {
   "cell_type": "code",
   "execution_count": 6,
   "metadata": {
    "jupyter": {
     "outputs_hidden": false,
     "source_hidden": false
    },
    "nteract": {
     "transient": {
      "deleting": false
     }
    }
   },
   "outputs": [
    {
     "data": {
      "application/vnd.livy.statement-meta+json": {
       "execution_finish_time": "2024-06-19T17:03:50.8913376Z",
       "execution_start_time": "2024-06-19T17:03:50.7326587Z",
       "livy_statement_state": "available",
       "parent_msg_id": "9a6edf99-959f-4be5-8c3b-31deb7fafdbb",
       "queued_time": "2024-06-19T17:03:39.179071Z",
       "session_id": "10",
       "session_start_time": null,
       "spark_jobs": null,
       "spark_pool": "computeSmall",
       "state": "finished",
       "statement_id": 7,
       "statement_ids": [
        7
       ]
      },
      "text/plain": [
       "StatementMeta(computeSmall, 10, 7, Finished, Available)"
      ]
     },
     "metadata": {},
     "output_type": "display_data"
    }
   ],
   "source": [
    "def days_array(year, month):\n",
    "    mlen = calendar.monthrange(year, month)[1]\n",
    "    return [i for i in range(1, mlen+1)]"
   ]
  },
  {
   "cell_type": "code",
   "execution_count": 7,
   "metadata": {
    "jupyter": {
     "outputs_hidden": false,
     "source_hidden": false
    },
    "nteract": {
     "transient": {
      "deleting": false
     }
    }
   },
   "outputs": [
    {
     "data": {
      "application/vnd.livy.statement-meta+json": {
       "execution_finish_time": "2024-06-19T17:03:51.1759498Z",
       "execution_start_time": "2024-06-19T17:03:51.0240046Z",
       "livy_statement_state": "available",
       "parent_msg_id": "26574f4a-2daf-4850-a3fb-e8d236d3b72a",
       "queued_time": "2024-06-19T17:03:40.4380367Z",
       "session_id": "10",
       "session_start_time": null,
       "spark_jobs": null,
       "spark_pool": "computeSmall",
       "state": "finished",
       "statement_id": 8,
       "statement_ids": [
        8
       ]
      },
      "text/plain": [
       "StatementMeta(computeSmall, 10, 8, Finished, Available)"
      ]
     },
     "metadata": {},
     "output_type": "display_data"
    }
   ],
   "source": [
    "days_array_udf = udf(days_array, ArrayType(IntegerType()))\n",
    "\n",
    "\n",
    "days_df = year_month_df.withColumn(\"days\", days_array_udf(\"year\", \"month\"))\n",
    "#Initially the list output of days_array_udf() is inerpreted as a string,\n",
    "#Explode can be used to turn the list string into a full distribution of combinaitons\n",
    "\n",
    "# Use explode to expand the days array into separate rows\n",
    "days_df = days_df.withColumn(\"day\", explode(\"days\"))\n",
    "\n",
    "# Drop the original 'days' array column if no longer needed\n",
    "days_df = days_df.drop(\"days\")"
   ]
  },
  {
   "cell_type": "code",
   "execution_count": 8,
   "metadata": {
    "jupyter": {
     "outputs_hidden": false,
     "source_hidden": false
    },
    "nteract": {
     "transient": {
      "deleting": false
     }
    }
   },
   "outputs": [
    {
     "data": {
      "application/vnd.livy.statement-meta+json": {
       "execution_finish_time": "2024-06-19T17:03:51.4543981Z",
       "execution_start_time": "2024-06-19T17:03:51.3053254Z",
       "livy_statement_state": "available",
       "parent_msg_id": "58087606-5ea3-43ff-9ec6-cf612fb6b2e9",
       "queued_time": "2024-06-19T17:03:43.3900698Z",
       "session_id": "10",
       "session_start_time": null,
       "spark_jobs": null,
       "spark_pool": "computeSmall",
       "state": "finished",
       "statement_id": 9,
       "statement_ids": [
        9
       ]
      },
      "text/plain": [
       "StatementMeta(computeSmall, 10, 9, Finished, Available)"
      ]
     },
     "metadata": {},
     "output_type": "display_data"
    }
   ],
   "source": [
    "days_df = days_df.orderBy(\"year\", \"month\", \"day\")\n",
    "#display(days_df)"
   ]
  },
  {
   "cell_type": "code",
   "execution_count": 9,
   "metadata": {
    "jupyter": {
     "outputs_hidden": false,
     "source_hidden": false
    },
    "nteract": {
     "transient": {
      "deleting": false
     }
    }
   },
   "outputs": [
    {
     "data": {
      "application/vnd.livy.statement-meta+json": {
       "execution_finish_time": "2024-06-19T17:03:51.7386996Z",
       "execution_start_time": "2024-06-19T17:03:51.5819801Z",
       "livy_statement_state": "available",
       "parent_msg_id": "4bc8d7e2-ec47-4b2d-98af-aff392d87779",
       "queued_time": "2024-06-19T17:03:45.4322856Z",
       "session_id": "10",
       "session_start_time": null,
       "spark_jobs": null,
       "spark_pool": "computeSmall",
       "state": "finished",
       "statement_id": 10,
       "statement_ids": [
        10
       ]
      },
      "text/plain": [
       "StatementMeta(computeSmall, 10, 10, Finished, Available)"
      ]
     },
     "metadata": {},
     "output_type": "display_data"
    }
   ],
   "source": [
    "hours_df = spark.createDataFrame([(hour,) for hour in hours], [\"hour\"])\n",
    "\n",
    "days_hours_df = days_df.crossJoin(hours_df).orderBy(\"year\", \"month\", \"day\", \"hour\")\n",
    "\n",
    "#display(days_hours_df)"
   ]
  },
  {
   "cell_type": "code",
   "execution_count": 10,
   "metadata": {
    "jupyter": {
     "outputs_hidden": false,
     "source_hidden": false
    },
    "nteract": {
     "transient": {
      "deleting": false
     }
    }
   },
   "outputs": [
    {
     "data": {
      "application/vnd.livy.statement-meta+json": {
       "execution_finish_time": "2024-06-19T17:03:52.0220707Z",
       "execution_start_time": "2024-06-19T17:03:51.8701027Z",
       "livy_statement_state": "available",
       "parent_msg_id": "10819f69-97dd-444f-a096-8e698455991e",
       "queued_time": "2024-06-19T17:03:50.9576954Z",
       "session_id": "10",
       "session_start_time": null,
       "spark_jobs": null,
       "spark_pool": "computeSmall",
       "state": "finished",
       "statement_id": 11,
       "statement_ids": [
        11
       ]
      },
      "text/plain": [
       "StatementMeta(computeSmall, 10, 11, Finished, Available)"
      ]
     },
     "metadata": {},
     "output_type": "display_data"
    }
   ],
   "source": [
    "minutes_df = spark.createDataFrame([(minute,) for minute in minutes], [\"minute\"])\n",
    "\n",
    "full_dates = days_hours_df.crossJoin(minutes_df).orderBy(\"year\", \"month\", \"day\", \"hour\", \"minute\")"
   ]
  },
  {
   "cell_type": "markdown",
   "metadata": {
    "nteract": {
     "transient": {
      "deleting": false
     }
    }
   },
   "source": [
    "### Now that the dataframe full_dates has been created with all time intervals between 2016 and 2019 down to the 15 minute interval. \n",
    "\n",
    "\n",
    "\n",
    ".\n",
    "\n",
    "\n",
    "\n",
    "### We can compare to the dates per street in our traffic data initial_data by creating an additional dataset full_streets_df which contains all combinations of date and street.\n",
    "\n",
    ".\n",
    "\n",
    "\n",
    "\n",
    "### We will compile a dataset of missing dates per street called missing_dates"
   ]
  },
  {
   "cell_type": "code",
   "execution_count": 11,
   "metadata": {
    "jupyter": {
     "outputs_hidden": false,
     "source_hidden": false
    },
    "nteract": {
     "transient": {
      "deleting": false
     }
    }
   },
   "outputs": [
    {
     "data": {
      "application/vnd.livy.statement-meta+json": {
       "execution_finish_time": "2024-06-19T17:03:54.8758694Z",
       "execution_start_time": "2024-06-19T17:03:54.7266285Z",
       "livy_statement_state": "available",
       "parent_msg_id": "f7470b93-7fbc-4d35-ad26-26b19933186d",
       "queued_time": "2024-06-19T17:03:54.5631947Z",
       "session_id": "10",
       "session_start_time": null,
       "spark_jobs": null,
       "spark_pool": "computeSmall",
       "state": "finished",
       "statement_id": 12,
       "statement_ids": [
        12
       ]
      },
      "text/plain": [
       "StatementMeta(computeSmall, 10, 12, Finished, Available)"
      ]
     },
     "metadata": {},
     "output_type": "display_data"
    }
   ],
   "source": [
    "streets_df = initial_data.select(\"street\").distinct()\n",
    "full_streets_df = full_dates.crossJoin(streets_df)"
   ]
  },
  {
   "cell_type": "code",
   "execution_count": 12,
   "metadata": {
    "jupyter": {
     "outputs_hidden": false,
     "source_hidden": false
    },
    "nteract": {
     "transient": {
      "deleting": false
     }
    }
   },
   "outputs": [
    {
     "data": {
      "application/vnd.livy.statement-meta+json": {
       "execution_finish_time": "2024-06-19T17:03:56.5168759Z",
       "execution_start_time": "2024-06-19T17:03:56.3593713Z",
       "livy_statement_state": "available",
       "parent_msg_id": "97d34c28-0f11-4814-b0ba-74897cb8cea1",
       "queued_time": "2024-06-19T17:03:56.2173287Z",
       "session_id": "10",
       "session_start_time": null,
       "spark_jobs": null,
       "spark_pool": "computeSmall",
       "state": "finished",
       "statement_id": 13,
       "statement_ids": [
        13
       ]
      },
      "text/plain": [
       "StatementMeta(computeSmall, 10, 13, Finished, Available)"
      ]
     },
     "metadata": {},
     "output_type": "display_data"
    }
   ],
   "source": [
    "missing_dates = full_streets_df.join(\n",
    "    initial_data,\n",
    "    on=[\"street\", \"year\", \"month\", \"day\", \"hour\", \"minute\"],\n",
    "    how=\"left_anti\"\n",
    ")"
   ]
  },
  {
   "cell_type": "markdown",
   "metadata": {
    "nteract": {
     "transient": {
      "deleting": false
     }
    }
   },
   "source": [
    "Total unique dates:  140256\n",
    "\n",
    "Total unique streets:  224\n",
    "\n",
    "Intervals per street:  31417344\n",
    "\n",
    "Missing data len:  30815985\n",
    "\n",
    "Initial data len:  1565977"
   ]
  },
  {
   "cell_type": "code",
   "execution_count": 74,
   "metadata": {
    "jupyter": {
     "outputs_hidden": false,
     "source_hidden": false
    },
    "nteract": {
     "transient": {
      "deleting": false
     }
    }
   },
   "outputs": [
    {
     "data": {
      "application/vnd.livy.statement-meta+json": {
       "execution_finish_time": "2024-06-18T18:18:24.4317768Z",
       "execution_start_time": "2024-06-18T17:36:01.9644223Z",
       "livy_statement_state": "available",
       "parent_msg_id": "05d6dc0b-2d1b-4af8-94e6-1fc1d24431ff",
       "queued_time": "2024-06-18T17:36:01.8225056Z",
       "session_id": "9",
       "session_start_time": null,
       "spark_jobs": null,
       "spark_pool": "computeSmall",
       "state": "finished",
       "statement_id": 62,
       "statement_ids": [
        62
       ]
      },
      "text/plain": [
       "StatementMeta(computeSmall, 9, 62, Finished, Available)"
      ]
     },
     "metadata": {},
     "output_type": "display_data"
    },
    {
     "name": "stdout",
     "output_type": "stream",
     "text": [
      "Total unique dates:  140256\n",
      "Total unique streets:  224\n",
      "Intervals per street:  31417344\n",
      "Missing data len:  30815985\n",
      "Initial data len:  1565977\n"
     ]
    }
   ],
   "source": [
    "full_dates_count = full_dates.count()\n",
    "print(\"Total unique dates: \", full_dates_count)\n",
    "\n",
    "streets_df_count = streets_df.count()\n",
    "print(\"Total unique streets: \", streets_df_count)\n",
    "\n",
    "full_streets_df_count = full_streets_df.count()\n",
    "print(\"Intervals per street: \", full_streets_df_count)\n",
    "\n",
    "missing_dates_count = missing_dates.count()\n",
    "print(\"Missing data len: \", missing_dates_count)\n",
    "\n",
    "initial_data_count = initial_data.count()\n",
    "print(\"Initial data len: \", initial_data_count)"
   ]
  },
  {
   "cell_type": "markdown",
   "metadata": {
    "nteract": {
     "transient": {
      "deleting": false
     }
    }
   },
   "source": [
    "#### Summary\n",
    "\n",
    "Missing data len + initial data len = 32,381,962\n",
    "\n",
    "The number being greater than Intervals per street represents that in initial_data there are often multiple rows per street per datetime.\n",
    "\n",
    "Diff = 964,618\n",
    "\n",
    "\n",
    "##### Next task is to expand missing_dates with columns so that it can be merged with initial_data. Also, convert both to datetime format"
   ]
  },
  {
   "cell_type": "code",
   "execution_count": 13,
   "metadata": {
    "jupyter": {
     "outputs_hidden": false,
     "source_hidden": false
    },
    "nteract": {
     "transient": {
      "deleting": false
     }
    }
   },
   "outputs": [
    {
     "data": {
      "application/vnd.livy.statement-meta+json": {
       "execution_finish_time": "2024-06-19T17:05:44.9365294Z",
       "execution_start_time": "2024-06-19T17:05:44.7874253Z",
       "livy_statement_state": "available",
       "parent_msg_id": "f0b1d609-f0a4-48a3-ab83-434fae84f536",
       "queued_time": "2024-06-19T17:05:44.6489101Z",
       "session_id": "10",
       "session_start_time": null,
       "spark_jobs": null,
       "spark_pool": "computeSmall",
       "state": "finished",
       "statement_id": 14,
       "statement_ids": [
        14
       ]
      },
      "text/plain": [
       "StatementMeta(computeSmall, 10, 14, Finished, Available)"
      ]
     },
     "metadata": {},
     "output_type": "display_data"
    },
    {
     "data": {
      "text/plain": [
       "['RequestID',\n",
       " 'Boro',\n",
       " 'year',\n",
       " 'month',\n",
       " 'day',\n",
       " 'hour',\n",
       " 'minute',\n",
       " 'Vol',\n",
       " 'SegmentID',\n",
       " 'WktGeom',\n",
       " 'street',\n",
       " 'fromSt',\n",
       " 'toSt',\n",
       " 'Direction']"
      ]
     },
     "execution_count": 29,
     "metadata": {},
     "output_type": "execute_result"
    }
   ],
   "source": [
    "initial_data.columns"
   ]
  },
  {
   "cell_type": "code",
   "execution_count": 16,
   "metadata": {
    "jupyter": {
     "outputs_hidden": false,
     "source_hidden": false
    },
    "nteract": {
     "transient": {
      "deleting": false
     }
    }
   },
   "outputs": [
    {
     "data": {
      "application/vnd.livy.statement-meta+json": {
       "execution_finish_time": "2024-06-19T17:09:32.5791361Z",
       "execution_start_time": "2024-06-19T17:09:32.0400649Z",
       "livy_statement_state": "available",
       "parent_msg_id": "35c2f7e2-ae80-419d-9399-2a28d41a8854",
       "queued_time": "2024-06-19T17:09:31.9175399Z",
       "session_id": "10",
       "session_start_time": null,
       "spark_jobs": null,
       "spark_pool": "computeSmall",
       "state": "finished",
       "statement_id": 17,
       "statement_ids": [
        17
       ]
      },
      "text/plain": [
       "StatementMeta(computeSmall, 10, 17, Finished, Available)"
      ]
     },
     "metadata": {},
     "output_type": "display_data"
    },
    {
     "data": {
      "text/plain": [
       "['RequestID',\n",
       " 'Boro',\n",
       " 'year',\n",
       " 'month',\n",
       " 'day',\n",
       " 'hour',\n",
       " 'minute',\n",
       " 'Vol',\n",
       " 'SegmentID',\n",
       " 'WktGeom',\n",
       " 'street',\n",
       " 'fromSt',\n",
       " 'toSt',\n",
       " 'Direction']"
      ]
     },
     "execution_count": 35,
     "metadata": {},
     "output_type": "execute_result"
    }
   ],
   "source": [
    "missing_datesCol = missing_dates.withColumn(\"RequestID\", lit(None)) \\\n",
    "                             .withColumn(\"Boro\", lit(\"Manhattan\")) \\\n",
    "                             .withColumn(\"Vol\", lit(None)) \\\n",
    "                             .withColumn(\"SegmentID\", lit(None)) \\\n",
    "                             .withColumn(\"WktGeom\", lit(None)) \\\n",
    "                             .withColumn(\"fromSt\", lit(None)) \\\n",
    "                             .withColumn(\"toSt\", lit(None)) \\\n",
    "                             .withColumn(\"Direction\", lit(None))\n",
    "\n",
    "missing_datesCol = missing_datesCol.select(\n",
    "['RequestID',\n",
    " 'Boro',\n",
    " 'year',\n",
    " 'month',\n",
    " 'day',\n",
    " 'hour',\n",
    " 'minute',\n",
    " 'Vol',\n",
    " 'SegmentID',\n",
    " 'WktGeom',\n",
    " 'street',\n",
    " 'fromSt',\n",
    " 'toSt',\n",
    " 'Direction'])\n",
    "\n",
    "missing_datesCol.columns"
   ]
  },
  {
   "cell_type": "code",
   "execution_count": 19,
   "metadata": {
    "jupyter": {
     "outputs_hidden": false,
     "source_hidden": false
    },
    "nteract": {
     "transient": {
      "deleting": false
     }
    }
   },
   "outputs": [
    {
     "data": {
      "application/vnd.livy.statement-meta+json": {
       "execution_finish_time": "2024-06-19T17:17:14.6689577Z",
       "execution_start_time": "2024-06-19T17:17:14.5115517Z",
       "livy_statement_state": "available",
       "parent_msg_id": "47807ab3-5ad8-4fad-9d90-583f5cf53304",
       "queued_time": "2024-06-19T17:17:12.6382775Z",
       "session_id": "10",
       "session_start_time": null,
       "spark_jobs": null,
       "spark_pool": "computeSmall",
       "state": "finished",
       "statement_id": 20,
       "statement_ids": [
        20
       ]
      },
      "text/plain": [
       "StatementMeta(computeSmall, 10, 20, Finished, Available)"
      ]
     },
     "metadata": {},
     "output_type": "display_data"
    }
   ],
   "source": [
    "czone_fulldata = initial_data.unionByName(missing_datesCol)"
   ]
  },
  {
   "cell_type": "markdown",
   "metadata": {
    "nteract": {
     "transient": {
      "deleting": false
     }
    }
   },
   "source": [
    "Result of the following (time intensive) computation:\n",
    "\n",
    "Combined data len:  32381962\n",
    "\n",
    "This is the same number predicted by initial_data len + missing_data len, showing the union was successful.\n"
   ]
  },
  {
   "cell_type": "code",
   "execution_count": 21,
   "metadata": {
    "jupyter": {
     "outputs_hidden": false,
     "source_hidden": false
    },
    "nteract": {
     "transient": {
      "deleting": false
     }
    }
   },
   "outputs": [
    {
     "data": {
      "application/vnd.livy.statement-meta+json": {
       "execution_finish_time": "2024-06-19T17:32:14.1720369Z",
       "execution_start_time": "2024-06-19T17:32:08.0097362Z",
       "livy_statement_state": "cancelled",
       "parent_msg_id": "5f0703d0-84a6-4af5-95be-7290a6eb5471",
       "queued_time": "2024-06-19T17:32:07.8854432Z",
       "session_id": "10",
       "session_start_time": null,
       "spark_jobs": null,
       "spark_pool": "computeSmall",
       "state": "finished",
       "statement_id": 22,
       "statement_ids": [
        22
       ]
      },
      "text/plain": [
       "StatementMeta(computeSmall, 10, 22, Finished, Cancelled)"
      ]
     },
     "metadata": {},
     "output_type": "display_data"
    }
   ],
   "source": [
    "combined_count = czone_fulldata.count()\n",
    "print(\"Combined data len: \", combined_count)"
   ]
  },
  {
   "cell_type": "markdown",
   "metadata": {
    "nteract": {
     "transient": {
      "deleting": false
     }
    }
   },
   "source": [
    "#### Now czone_fulldata contains both the initial_data (which contained no missing rows) and a much larger set of NA rows indicating all the time intervals per street that a recording was not made. We have thus imputed the missing data.\n",
    "\n",
    ".\n",
    "\n",
    "\n",
    "## The next step is to examine the density of the dataset across different dates. \n",
    "\n",
    "#### With the ratio of missing data to recorded data being so high, it would compromise or severely limit the validity of our data, if we were not able to find a pattern, allowing us to zoom in on the data at specific times to see a much more concentrated data timeframe.\n",
    "\n",
    "#### I used rows per datetime across various time frames as a way to look for such patterns, and discovered that the vast majority of recordings were made in October across all years. Thus, the majority of the missing data was within the other 11 months of the year.\n",
    "\n",
    "#### This is a very convenient discovery for many reasons, but especially to the context of having needed this Synapse notebook to compute this missing data:\n",
    "\n",
    "#### By focusing on October it allows us to greatly shrink the dataset to a size where it is workable from a macbook."
   ]
  },
  {
   "cell_type": "code",
   "execution_count": 26,
   "metadata": {
    "jupyter": {
     "outputs_hidden": false,
     "source_hidden": false
    },
    "nteract": {
     "transient": {
      "deleting": false
     }
    }
   },
   "outputs": [
    {
     "data": {
      "application/vnd.livy.statement-meta+json": {
       "execution_finish_time": "2024-06-19T17:45:43.6545488Z",
       "execution_start_time": "2024-06-19T17:45:41.7970204Z",
       "livy_statement_state": "available",
       "parent_msg_id": "b2d5d427-0da5-4f5c-9095-160ead809840",
       "queued_time": "2024-06-19T17:45:41.6577215Z",
       "session_id": "10",
       "session_start_time": null,
       "spark_jobs": null,
       "spark_pool": "computeSmall",
       "state": "finished",
       "statement_id": 27,
       "statement_ids": [
        27
       ]
      },
      "text/plain": [
       "StatementMeta(computeSmall, 10, 27, Finished, Available)"
      ]
     },
     "metadata": {},
     "output_type": "display_data"
    },
    {
     "name": "stdout",
     "output_type": "stream",
     "text": [
      "+-----+------+\n",
      "|month| count|\n",
      "+-----+------+\n",
      "|   10|714603|\n",
      "|   11|220248|\n",
      "|    6|178142|\n",
      "|    1|136288|\n",
      "|    2| 96666|\n",
      "|    3| 71141|\n",
      "|    5| 43887|\n",
      "|    4| 38303|\n",
      "|   12| 30243|\n",
      "|    9| 23889|\n",
      "|    7| 10263|\n",
      "|    8|  2304|\n",
      "+-----+------+\n",
      "\n"
     ]
    }
   ],
   "source": [
    "monthly_rows = initial_data.groupBy(\"month\").agg(F.count(\"*\").alias(\"count\"))\n",
    "\n",
    "monthly_rows = monthly_rows.orderBy(\"count\", ascending = False)\n",
    "\n",
    "monthly_rows.show()"
   ]
  },
  {
   "cell_type": "markdown",
   "metadata": {
    "nteract": {
     "transient": {
      "deleting": false
     }
    }
   },
   "source": [
    "The count from above can now be put in context with comparison to the missing data per month."
   ]
  },
  {
   "cell_type": "code",
   "execution_count": 28,
   "metadata": {
    "jupyter": {
     "outputs_hidden": false,
     "source_hidden": false
    },
    "nteract": {
     "transient": {
      "deleting": false
     }
    }
   },
   "outputs": [
    {
     "data": {
      "application/vnd.livy.statement-meta+json": {
       "execution_finish_time": "2024-06-19T18:06:12.3166196Z",
       "execution_start_time": "2024-06-19T17:52:17.2466365Z",
       "livy_statement_state": "available",
       "parent_msg_id": "f6d56494-5bab-403d-9979-f0b1ee095fd1",
       "queued_time": "2024-06-19T17:52:17.1125004Z",
       "session_id": "10",
       "session_start_time": null,
       "spark_jobs": null,
       "spark_pool": "computeSmall",
       "state": "finished",
       "statement_id": 29,
       "statement_ids": [
        29
       ]
      },
      "text/plain": [
       "StatementMeta(computeSmall, 10, 29, Finished, Available)"
      ]
     },
     "metadata": {},
     "output_type": "display_data"
    },
    {
     "name": "stdout",
     "output_type": "stream",
     "text": [
      "+-----+------+-----+-------+\n",
      "|month| count|month| Mcount|\n",
      "+-----+------+-----+-------+\n",
      "|    7| 10263|    7|2661780|\n",
      "|    6|178142|    6|2501692|\n",
      "|    9| 23889|    9|2563015|\n",
      "|    5| 43887|    5|2644125|\n",
      "|    1|136288|    1|2633786|\n",
      "|   10|714603|   10|2417062|\n",
      "|    3| 71141|    3|2644629|\n",
      "|   12| 30243|   12|2651257|\n",
      "|    8|  2304|    8|2664840|\n",
      "|   11|220248|   11|2480853|\n",
      "|    2| 96666|    2|2394551|\n",
      "|    4| 38303|    4|2558395|\n",
      "+-----+------+-----+-------+\n",
      "\n"
     ]
    }
   ],
   "source": [
    "monthly_mrows = missing_dates.groupBy('month').agg(F.count(\"*\").alias(\"Mcount\"))\n",
    "\n",
    "monthly_rows2 = monthly_rows.join(\n",
    "    monthly_mrows, \n",
    "    monthly_rows.month == monthly_mrows.month, \n",
    "    \"inner\"  \n",
    ").orderBy(\"Mcount\", ascending = True)\n",
    "\n",
    "\n",
    "monthly_rows2.show()"
   ]
  },
  {
   "cell_type": "markdown",
   "metadata": {
    "nteract": {
     "transient": {
      "deleting": false
     }
    }
   },
   "source": [
    "Knowing of the October Pattern, we can prepare the dataset for export by:\n",
    "\n",
    "- Creating an October and NonOctober version of the data\n",
    "- sorting the data\n",
    "\n",
    "Further alterations and explorations may more easily done in normal python once the datasets are a workable size, including:\n",
    "\n",
    "- Add a datetime column\n",
    "- Display density of data vs missing data\n",
    "\n",
    "These operations will follow in the next notebook, which will be back to Python."
   ]
  },
  {
   "cell_type": "code",
   "execution_count": 31,
   "metadata": {
    "jupyter": {
     "outputs_hidden": false,
     "source_hidden": false
    },
    "nteract": {
     "transient": {
      "deleting": false
     }
    }
   },
   "outputs": [
    {
     "data": {
      "application/vnd.livy.statement-meta+json": {
       "execution_finish_time": "2024-06-19T18:54:37.6806758Z",
       "execution_start_time": "2024-06-19T18:54:37.5272742Z",
       "livy_statement_state": "available",
       "parent_msg_id": "b47d71f6-23f3-4fe5-a02c-29cc1a3fbf01",
       "queued_time": "2024-06-19T18:54:37.4045171Z",
       "session_id": "10",
       "session_start_time": null,
       "spark_jobs": null,
       "spark_pool": "computeSmall",
       "state": "finished",
       "statement_id": 32,
       "statement_ids": [
        32
       ]
      },
      "text/plain": [
       "StatementMeta(computeSmall, 10, 32, Finished, Available)"
      ]
     },
     "metadata": {},
     "output_type": "display_data"
    }
   ],
   "source": [
    "czone_October = czone_fulldata.filter(czone_fulldata['month'] == 10)\n",
    "czone_notOctober = czone_fulldata.filter(czone_fulldata['month'] != 10)"
   ]
  },
  {
   "cell_type": "code",
   "execution_count": 32,
   "metadata": {
    "jupyter": {
     "outputs_hidden": false,
     "source_hidden": false
    },
    "nteract": {
     "transient": {
      "deleting": false
     }
    }
   },
   "outputs": [
    {
     "data": {
      "application/vnd.livy.statement-meta+json": {
       "execution_finish_time": "2024-06-19T18:56:13.877236Z",
       "execution_start_time": "2024-06-19T18:56:13.7308432Z",
       "livy_statement_state": "available",
       "parent_msg_id": "b7ab9f1a-c3ec-4b6a-95da-d0894c71baca",
       "queued_time": "2024-06-19T18:56:13.597729Z",
       "session_id": "10",
       "session_start_time": null,
       "spark_jobs": null,
       "spark_pool": "computeSmall",
       "state": "finished",
       "statement_id": 33,
       "statement_ids": [
        33
       ]
      },
      "text/plain": [
       "StatementMeta(computeSmall, 10, 33, Finished, Available)"
      ]
     },
     "metadata": {},
     "output_type": "display_data"
    }
   ],
   "source": [
    "sorted_October = czone_October.orderBy('year', 'month', 'day', 'hour', 'minute')\n",
    "sorted_notOctober = czone_notOctober.orderBy('year', 'month', 'day', 'hour', 'minute')"
   ]
  },
  {
   "cell_type": "code",
   "execution_count": 34,
   "metadata": {
    "jupyter": {
     "outputs_hidden": false,
     "source_hidden": false
    },
    "nteract": {
     "transient": {
      "deleting": false
     }
    }
   },
   "outputs": [
    {
     "data": {
      "application/vnd.livy.statement-meta+json": {
       "execution_finish_time": "2024-06-19T19:03:36.8448928Z",
       "execution_start_time": "2024-06-19T19:03:36.6875267Z",
       "livy_statement_state": "available",
       "parent_msg_id": "9bbc7624-90b3-42bc-a2a9-1ea75c62994e",
       "queued_time": "2024-06-19T19:03:36.5595902Z",
       "session_id": "10",
       "session_start_time": null,
       "spark_jobs": null,
       "spark_pool": "computeSmall",
       "state": "finished",
       "statement_id": 35,
       "statement_ids": [
        35
       ]
      },
      "text/plain": [
       "StatementMeta(computeSmall, 10, 35, Finished, Available)"
      ]
     },
     "metadata": {},
     "output_type": "display_data"
    }
   ],
   "source": [
    "#recombine data from distributed computed nodes to make single data entities for export\n",
    "\n",
    "single_October = sorted_October.repartition(1)\n",
    "single_notOctober = sorted_notOctober.repartition(1)"
   ]
  },
  {
   "cell_type": "code",
   "execution_count": 35,
   "metadata": {
    "jupyter": {
     "outputs_hidden": false,
     "source_hidden": false
    },
    "nteract": {
     "transient": {
      "deleting": false
     }
    }
   },
   "outputs": [
    {
     "data": {
      "application/vnd.livy.statement-meta+json": {
       "execution_finish_time": "2024-06-19T19:39:12.7337266Z",
       "execution_start_time": "2024-06-19T19:05:15.690998Z",
       "livy_statement_state": "available",
       "parent_msg_id": "1e986e07-d7b4-4f73-8e78-dab9786a95d1",
       "queued_time": "2024-06-19T19:05:15.5626928Z",
       "session_id": "10",
       "session_start_time": null,
       "spark_jobs": null,
       "spark_pool": "computeSmall",
       "state": "finished",
       "statement_id": 36,
       "statement_ids": [
        36
       ]
      },
      "text/plain": [
       "StatementMeta(computeSmall, 10, 36, Finished, Available)"
      ]
     },
     "metadata": {},
     "output_type": "display_data"
    }
   ],
   "source": [
    "october_csv_path = \"czone_October.csv\"\n",
    "not_october_csv_path = \"czone_notOctober.csv\"\n",
    "\n",
    "single_October.write.format(\"csv\").option(\"header\", \"true\").mode(\"overwrite\").save(october_csv_path)\n",
    "single_notOctober.write.format(\"csv\").option(\"header\", \"true\").mode(\"overwrite\").save(not_october_csv_path)"
   ]
  },
  {
   "cell_type": "markdown",
   "metadata": {
    "nteract": {
     "transient": {
      "deleting": false
     }
    }
   },
   "source": []
  }
 ],
 "metadata": {
  "description": "Calculate the missing dates per street per datetime to fill NA for the Automated Traffic Counts dataset from OpenNYC. This operation is meant to enable the detailed data analysis of traffic counts per street per datetime in Manhattan below 60th street, for insight into the 2024 Congestion Relief Zone urban policy effort. ",
  "kernel_info": {
   "name": "synapse_pyspark"
  },
  "kernelspec": {
   "display_name": "Python 3 (ipykernel)",
   "language": "python",
   "name": "python3"
  },
  "language_info": {
   "codemirror_mode": {
    "name": "ipython",
    "version": 3
   },
   "file_extension": ".py",
   "mimetype": "text/x-python",
   "name": "python",
   "nbconvert_exporter": "python",
   "pygments_lexer": "ipython3",
   "version": "3.11.5"
  },
  "save_output": true,
  "synapse_widget": {
   "state": {
    "e4dfe2fd-ce70-4148-ac00-823a2d3e0f45": {
     "persist_state": {
      "view": {
       "chartOptions": {
        "aggregationType": "count",
        "categoryFieldKeys": [
         "0"
        ],
        "chartType": "bar",
        "isStacked": false,
        "seriesFieldKeys": [
         "0"
        ]
       },
       "tableOptions": {},
       "type": "details"
      }
     },
     "sync_state": {
      "isSummary": false,
      "language": "scala",
      "table": {
       "rows": [
        {
         "0": "21147",
         "1": "Manhattan",
         "10": "BROADWAY",
         "11": "RIVERSIDE DR/DYCKMAN ST",
         "12": "RIVERSIDE DR",
         "13": "EB",
         "2": "2016",
         "3": "1",
         "4": "6",
         "5": "0",
         "6": "0",
         "7": "43",
         "8": "111269",
         "9": "POINT (1004299.9 254574.8)"
        },
        {
         "0": "21147",
         "1": "Manhattan",
         "10": "BROADWAY",
         "11": "W 129 ST",
         "12": "W 125 ST",
         "13": "SB",
         "2": "2016",
         "3": "1",
         "4": "6",
         "5": "0",
         "6": "0",
         "7": "49",
         "8": "159153",
         "9": "POINT (995829.5 236599.8)"
        },
        {
         "0": "21147",
         "1": "Manhattan",
         "10": "BROADWAY",
         "11": "W 80 ST",
         "12": "W 79 ST",
         "13": "SB",
         "2": "2016",
         "3": "1",
         "4": "6",
         "5": "0",
         "6": "0",
         "7": "89",
         "8": "158755",
         "9": "POINT (989835.5 224993)"
        },
        {
         "0": "21147",
         "1": "Manhattan",
         "10": "BROADWAY",
         "11": "W 155 ST/W 155 STREET PEDESTRIAN UPAS",
         "12": "W 156 ST",
         "13": "SB",
         "2": "2016",
         "3": "1",
         "4": "6",
         "5": "0",
         "6": "0",
         "7": "67",
         "8": "158586",
         "9": "POINT (999281.6 242818.3)"
        },
        {
         "0": "21147",
         "1": "Manhattan",
         "10": "BROADWAY",
         "11": "W 96 ST",
         "12": "W 97 ST",
         "13": "SB",
         "2": "2016",
         "3": "1",
         "4": "6",
         "5": "0",
         "6": "0",
         "7": "78",
         "8": "159237",
         "9": "POINT (992102.4 228930.1)"
        },
        {
         "0": "21147",
         "1": "Manhattan",
         "10": "BROADWAY",
         "11": "RIVERSIDE DR/DYCKMAN ST",
         "12": "CUMMING ST",
         "13": "WB",
         "2": "2016",
         "3": "1",
         "4": "6",
         "5": "0",
         "6": "0",
         "7": "52",
         "8": "72608",
         "9": "POINT (1004559.8 254713.2)"
        },
        {
         "0": "21147",
         "1": "Manhattan",
         "10": "BROADWAY",
         "11": "W 153 ST",
         "12": "W 155 ST",
         "13": "NB",
         "2": "2016",
         "3": "1",
         "4": "6",
         "5": "0",
         "6": "0",
         "7": "46",
         "8": "158733",
         "9": "POINT (999140.2 242429)"
        },
        {
         "0": "21147",
         "1": "Manhattan",
         "10": "CANAL STREET",
         "11": "ALLEN ST",
         "12": "ALLEN ST",
         "13": "EB",
         "2": "2016",
         "3": "1",
         "4": "6",
         "5": "0",
         "6": "0",
         "7": "36",
         "8": "162689",
         "9": "POINT (986316.7 199805.6)"
        },
        {
         "0": "21147",
         "1": "Manhattan",
         "10": "CANAL STREET",
         "11": "BROADWAY",
         "12": "CORTLANDT AL",
         "13": "WB",
         "2": "2016",
         "3": "1",
         "4": "6",
         "5": "0",
         "6": "0",
         "7": "84",
         "8": "32095",
         "9": "POINT (983812.5 201293)"
        },
        {
         "0": "21147",
         "1": "Manhattan",
         "10": "CANAL STREET",
         "11": "AV OF THE AMERICAS",
         "12": "AVE OF THE AMERICAS",
         "13": "EB",
         "2": "2016",
         "3": "1",
         "4": "6",
         "5": "0",
         "6": "0",
         "7": "115",
         "8": "31869",
         "9": "POINT (982694.6 202334.7)"
        }
       ],
       "schema": [
        {
         "key": "0",
         "name": "RequestID",
         "type": "string"
        },
        {
         "key": "1",
         "name": "Boro",
         "type": "string"
        },
        {
         "key": "2",
         "name": "year",
         "type": "string"
        },
        {
         "key": "3",
         "name": "month",
         "type": "string"
        },
        {
         "key": "4",
         "name": "day",
         "type": "string"
        },
        {
         "key": "5",
         "name": "hour",
         "type": "string"
        },
        {
         "key": "6",
         "name": "minute",
         "type": "string"
        },
        {
         "key": "7",
         "name": "Vol",
         "type": "string"
        },
        {
         "key": "8",
         "name": "SegmentID",
         "type": "string"
        },
        {
         "key": "9",
         "name": "WktGeom",
         "type": "string"
        },
        {
         "key": "10",
         "name": "street",
         "type": "string"
        },
        {
         "key": "11",
         "name": "fromSt",
         "type": "string"
        },
        {
         "key": "12",
         "name": "toSt",
         "type": "string"
        },
        {
         "key": "13",
         "name": "Direction",
         "type": "string"
        }
       ],
       "truncated": false
      }
     },
     "type": "Synapse.DataFrame"
    }
   },
   "version": "0.1"
  }
 },
 "nbformat": 4,
 "nbformat_minor": 2
}
